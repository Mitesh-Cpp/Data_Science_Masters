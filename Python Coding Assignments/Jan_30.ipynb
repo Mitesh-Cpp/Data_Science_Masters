{
 "cells": [
  {
   "cell_type": "code",
   "execution_count": 2,
   "id": "0fa88a22-2eda-4bba-98bc-e31afc956fb6",
   "metadata": {
    "tags": []
   },
   "outputs": [
    {
     "name": "stdin",
     "output_type": "stream",
     "text": [
      "Enter Percentage :  75\n"
     ]
    },
    {
     "name": "stdout",
     "output_type": "stream",
     "text": [
      "C\n"
     ]
    }
   ],
   "source": [
    "per = int(input(\"Enter Percentage : \"))\n",
    "if per>90 :\n",
    "    grade = 'A'\n",
    "elif per>80 :\n",
    "    grade ='B'\n",
    "elif per>=60 :\n",
    "    grade = 'C'\n",
    "else :\n",
    "    grade = 'D'\n",
    "print(grade)"
   ]
  },
  {
   "cell_type": "code",
   "execution_count": 7,
   "id": "8b7cb2fb-4b83-4adb-a733-38f8b089df6e",
   "metadata": {},
   "outputs": [
    {
     "name": "stdin",
     "output_type": "stream",
     "text": [
      "Enter Cost of vehicle :  75000\n"
     ]
    },
    {
     "name": "stdout",
     "output_type": "stream",
     "text": [
      "Tax : 10 percent\n"
     ]
    }
   ],
   "source": [
    "cost = int(input(\"Enter Cost of vehicle : \"))\n",
    "if cost>100000 :\n",
    "    tax = 15\n",
    "elif cost>50000 :\n",
    "    tax = 10\n",
    "else :\n",
    "    tax = 5\n",
    "print(f\"Tax : {tax} percent\")"
   ]
  },
  {
   "cell_type": "code",
   "execution_count": 12,
   "id": "9bd15753-ce7f-46bf-98d2-ade688a4510f",
   "metadata": {
    "tags": []
   },
   "outputs": [
    {
     "name": "stdin",
     "output_type": "stream",
     "text": [
      "Choose one city among : Delhi, Agra and Jaipur :  Patna\n"
     ]
    },
    {
     "name": "stdout",
     "output_type": "stream",
     "text": [
      "Try Again\n"
     ]
    },
    {
     "name": "stdin",
     "output_type": "stream",
     "text": [
      "Choose one city among : Delhi, Agra and Jaipur :  Agra\n"
     ]
    },
    {
     "name": "stdout",
     "output_type": "stream",
     "text": [
      "Taj Mahal\n"
     ]
    }
   ],
   "source": [
    "city = \"\"\n",
    "while(city!='Delhi' and city!='Agra' and city!='Jaipur') :\n",
    "    city = input(\"Choose one city among : Delhi, Agra and Jaipur : \")\n",
    "    if(city=='Delhi') :\n",
    "        print(\"Red Fort\")\n",
    "    elif(city=='Agra') : \n",
    "        print(\"Taj Mahal\") \n",
    "    elif(city=='Jaipur') :\n",
    "        print(\"Jal Mahal\")\n",
    "    else :\n",
    "        print(\"Try Again\")\n"
   ]
  },
  {
   "cell_type": "code",
   "execution_count": 21,
   "id": "13f2d639-ee2d-4531-a519-b352d5fd5fcf",
   "metadata": {
    "tags": []
   },
   "outputs": [
    {
     "name": "stdin",
     "output_type": "stream",
     "text": [
      " 27\n"
     ]
    },
    {
     "name": "stdout",
     "output_type": "stream",
     "text": [
      "Given input number can be divided 1 times by 3, before it is <= 10\n"
     ]
    }
   ],
   "source": [
    "# how many times a number can be divided by 3, before it is <= 10\n",
    "count = 0\n",
    "num = int(input())\n",
    "while(num > 10 and num%3 == 0) :\n",
    "    count += 1\n",
    "    num = num//3\n",
    "print(f\"Given input number can be divided {count} times by 3, before it is <= 10\")"
   ]
  },
  {
   "cell_type": "code",
   "execution_count": 22,
   "id": "7beadfcc-dc84-4967-81f4-660ec08fef19",
   "metadata": {
    "tags": []
   },
   "outputs": [
    {
     "name": "stdin",
     "output_type": "stream",
     "text": [
      "Guess a number between 1 and 10:  5\n"
     ]
    },
    {
     "name": "stdout",
     "output_type": "stream",
     "text": [
      "Try again.\n"
     ]
    },
    {
     "name": "stdin",
     "output_type": "stream",
     "text": [
      "Guess a number between 1 and 10:  2\n"
     ]
    },
    {
     "name": "stdout",
     "output_type": "stream",
     "text": [
      "You guessed it!\n"
     ]
    }
   ],
   "source": [
    "\"\"\"\n",
    "A while loop is used in Python when you want to repeatedly execute a block of code until a certain condition is met.\n",
    "The block of code will continue to execute as long as the condition specified in the loop header remains True.\n",
    "\n",
    "Here, condition is the expression that will be evaluated before each iteration of the loop, \n",
    "and the code block will continue to execute as long as the condition is True. \n",
    "If the condition becomes False, the loop will terminate and the program will continue with the next statement \n",
    "after the loop.\n",
    "\"\"\"\n",
    "\n",
    "# Example of while loop\n",
    "import random\n",
    "\n",
    "number = random.randint(1, 10)\n",
    "\n",
    "while True:\n",
    "    guess = int(input(\"Guess a number between 1 and 10: \"))\n",
    "    if guess == number:\n",
    "        print(\"You guessed it!\")\n",
    "        break\n",
    "    else:\n",
    "        print(\"Try again.\")"
   ]
  },
  {
   "cell_type": "code",
   "execution_count": 26,
   "id": "91e65aab-e770-442b-8626-c285be33ff99",
   "metadata": {
    "tags": []
   },
   "outputs": [
    {
     "name": "stdout",
     "output_type": "stream",
     "text": [
      "*****\n",
      "*****\n",
      "*****\n",
      "*****\n",
      "*****\n",
      "\n",
      "\n",
      "*\n",
      "**\n",
      "***\n",
      "****\n",
      "*****\n",
      "\n",
      "\n",
      "  *\n",
      " ***\n",
      "*****\n",
      " ***\n",
      "  *\n"
     ]
    }
   ],
   "source": [
    "# Nested while loop to print different patterns\n",
    "\n",
    "# Pattern 1: Square of asterisks\n",
    "i = 1\n",
    "while i <= 5:\n",
    "    j = 1\n",
    "    while j <= 5:\n",
    "        print('*', end='')\n",
    "        j += 1\n",
    "    print('')\n",
    "    i += 1\n",
    "print(\"\\n\")\n",
    "\n",
    "# Pattern 2: Right-angled triangle of asterisks\n",
    "i = 1\n",
    "while i <= 5:\n",
    "    j = 1\n",
    "    while j <= i:\n",
    "        print('*', end='')\n",
    "        j += 1\n",
    "    print('')\n",
    "    i += 1\n",
    "print(\"\\n\")\n",
    "\n",
    "# Pattern 3: Diamond of asterisks\n",
    "i = 1\n",
    "while i <= 3:\n",
    "    j = 1\n",
    "    while j <= (3 - i):\n",
    "        print(' ', end='')\n",
    "        j += 1\n",
    "    j = 1\n",
    "    while j <= (2 * i - 1):\n",
    "        print('*', end='')\n",
    "        j += 1\n",
    "    print('')\n",
    "    i += 1\n",
    "\n",
    "i = 2\n",
    "while i >= 1:\n",
    "    j = 1\n",
    "    while j <= (3 - i):\n",
    "        print(' ', end='')\n",
    "        j += 1\n",
    "    j = 1\n",
    "    while j <= (2 * i - 1):\n",
    "        print('*', end='')\n",
    "        j += 1\n",
    "    print('')\n",
    "    i -= 1"
   ]
  },
  {
   "cell_type": "code",
   "execution_count": 29,
   "id": "b0421704-c12e-438f-b265-28917554e273",
   "metadata": {
    "tags": []
   },
   "outputs": [
    {
     "name": "stdout",
     "output_type": "stream",
     "text": [
      "10 9 8 7 6 5 4 3 2 1 "
     ]
    }
   ],
   "source": [
    "i = 10\n",
    "while i>0 : \n",
    "    print(i, end=' ')\n",
    "    i -= 1"
   ]
  }
 ],
 "metadata": {
  "kernelspec": {
   "display_name": "Python 3 (ipykernel)",
   "language": "python",
   "name": "python3"
  },
  "language_info": {
   "codemirror_mode": {
    "name": "ipython",
    "version": 3
   },
   "file_extension": ".py",
   "mimetype": "text/x-python",
   "name": "python",
   "nbconvert_exporter": "python",
   "pygments_lexer": "ipython3",
   "version": "3.8.16"
  }
 },
 "nbformat": 4,
 "nbformat_minor": 5
}
