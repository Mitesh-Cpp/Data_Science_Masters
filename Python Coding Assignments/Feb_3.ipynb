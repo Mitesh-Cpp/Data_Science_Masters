{
 "cells": [
  {
   "cell_type": "markdown",
   "id": "45490897-40ef-4cc8-8cf5-f86f25e25663",
   "metadata": {},
   "source": [
    "Q1. Which keyword is used to create a function? Create a function to return a list of odd numbers in the\n",
    "range of 1 to 25.\n\n",
    "Q2. Why *args and **kwargs is used in some functions? Create a function each for *args and **kwargs\n",
    "to demonstrate their use.\n\n",
    "Q3. What is an iterator in python? Name the method used to initialise the iterator object and the method\n\n",
    "used for iteration. Use these methods to print the first five elements of the given list [2, 4, 6, 8, 10, 12, 14,\n",
    "16, 18, 20].\n\n",
    "Q4. What is a generator function in python? Why yield keyword is used? Give an example of a generator\n",
    "function.\n\n",
    "Q5. Create a generator function for prime numbers less than 1000. Use the next() method to print the\n",
    "first 20 prime numbers.\n\n",
    "Q6. Write a python program to print the first 10 Fibonacci numbers using a while loop.\n\n",
    "Q7. Write a List Comprehension to iterate through the given string: ‘pwskills’.\n",
    "Expected output: ['p', 'w', 's', 'k', 'i', 'l', 'l', 's']\n\n",
    "Q8. Write a python program to check whether a given number is Palindrome or not using a while loop.\n\n",
    "Q9. Write a code to print odd numbers from 1 to 100 using list comprehension.\n\n",
    "Note: Use a list comprehension to create a list from 1 to 100 and use another List comprehension to filter\n",
    "out odd numbers."
   ]
  },
  {
   "cell_type": "code",
   "execution_count": 2,
   "id": "0fbb64e6-3bdf-4024-9128-4c93c8ebd0e9",
   "metadata": {
    "tags": []
   },
   "outputs": [
    {
     "data": {
      "text/plain": [
       "[1, 3, 5, 7, 9, 11, 13, 15, 17, 19, 21, 23, 25]"
      ]
     },
     "execution_count": 2,
     "metadata": {},
     "output_type": "execute_result"
    }
   ],
   "source": [
    "# def keyword is used to create a function\n",
    "def func() :\n",
    "    l = []\n",
    "    for i in range(25+1) :\n",
    "        if i%2==1 :\n",
    "            l.append(i)\n",
    "    return l\n",
    "func()"
   ]
  },
  {
   "cell_type": "code",
   "execution_count": 5,
   "id": "18ead876-f9e5-43b4-8aa9-23edba779f41",
   "metadata": {
    "tags": []
   },
   "outputs": [
    {
     "name": "stdout",
     "output_type": "stream",
     "text": [
      "15\n",
      "name: John\n",
      "age: 30\n",
      "city: New York\n"
     ]
    }
   ],
   "source": [
    "'''\n",
    "In Python, *args and **kwargs are special syntaxes used in function definitions to pass a variable number of arguments to a function.\n",
    "\n",
    "*args is used to pass a variable number of non-keyword arguments to a function. \n",
    "The * (asterisk) before the parameter name tells Python to pack all arguments that are passed to the function into a tuple. \n",
    "This allows a function to accept any number of arguments without having to specify them all in the function definition.\n",
    "\n",
    "**kwargs is used to pass a variable number of keyword arguments (i.e., arguments that are passed to a function with their \n",
    "corresponding names) to a function. The ** (double asterisk) before the parameter name tells Python to pack all keyword arguments \n",
    "that are passed to the function into a dictionary.\n",
    "'''\n",
    "def sum_numbers(*args):\n",
    "    result = 0\n",
    "    for num in args:\n",
    "        result += num\n",
    "    return result\n",
    "\n",
    "print(sum_numbers(1, 2, 3, 4, 5))  # Output: 15\n",
    "\n",
    "\n",
    "# Example of a function that uses **kwargs\n",
    "def print_info(**kwargs):\n",
    "    for key, value in kwargs.items():\n",
    "        print(f\"{key}: {value}\")\n",
    "\n",
    "print_info(name=\"John\", age=30, city=\"New York\")  # Output: name: John, age: 30, city: New York"
   ]
  },
  {
   "cell_type": "code",
   "execution_count": 7,
   "id": "5c680812-6282-41d4-8a98-7fc4d2b7159e",
   "metadata": {
    "tags": []
   },
   "outputs": [
    {
     "name": "stdout",
     "output_type": "stream",
     "text": [
      "2\n",
      "4\n",
      "6\n",
      "8\n",
      "10\n"
     ]
    }
   ],
   "source": [
    "'''\n",
    "The iter() method is used to initialize an iterator object for an iterable. \n",
    "This method returns an iterator object that can be used to iterate over the elements of the iterable.\n",
    "'''\n",
    "my_list = [2, 4, 6, 8, 10, 12, 14, 16, 18, 20]\n",
    "\n",
    "# Initialize the iterator object\n",
    "my_iterator = iter(my_list)\n",
    "\n",
    "# Iterate over the first five elements of the list\n",
    "for i in range(5):\n",
    "    print(next(my_iterator))"
   ]
  },
  {
   "cell_type": "code",
   "execution_count": 10,
   "id": "d492e1e7-c677-48cc-a767-c84a78d0fefe",
   "metadata": {
    "tags": []
   },
   "outputs": [
    {
     "name": "stdout",
     "output_type": "stream",
     "text": [
      "<class 'generator'>\n",
      "0\n",
      "2\n",
      "4\n",
      "6\n",
      "8\n"
     ]
    }
   ],
   "source": [
    "'''\n",
    "In Python, a generator function is a special type of function that allows you to generate a sequence of values on-the-fly, \n",
    "rather than all at once. This means that you can iterate over the sequence one element at a time, \n",
    "without having to generate and store the entire sequence in memory at once. \n",
    "This can be very useful for working with large data sets, where storing the entire sequence in memory may not be feasible.\n",
    "\n",
    "A generator function is defined like a regular function, but instead of using the return keyword to return a value, \n",
    "it uses the yield keyword. When a generator function is called, it returns a generator object that can be used to iterate \n",
    "over the sequence of values. Each time the yield keyword is encountered in the generator function, it returns \n",
    "the current value and pauses execution of the function, saving its state so that it can be resumed later.\n",
    "'''\n",
    "\n",
    "def generate_even_numbers(n):\n",
    "    for i in range(n):\n",
    "        if i % 2 == 0:\n",
    "            yield i\n",
    "\n",
    "# Generate the first five even numbers\n",
    "even_nums = generate_even_numbers(10)\n",
    "print(type(even_nums))\n",
    "for i in range(5):\n",
    "    print(next(even_nums))\n"
   ]
  },
  {
   "cell_type": "code",
   "execution_count": 1,
   "id": "faadca8e-f57c-4a18-b091-2f6c38f4f8c0",
   "metadata": {
    "tags": []
   },
   "outputs": [
    {
     "name": "stdout",
     "output_type": "stream",
     "text": [
      "2\n",
      "3\n",
      "5\n",
      "7\n",
      "11\n",
      "13\n",
      "17\n",
      "19\n",
      "23\n",
      "29\n",
      "31\n",
      "37\n",
      "41\n",
      "43\n",
      "47\n",
      "53\n",
      "59\n",
      "61\n",
      "67\n",
      "71\n"
     ]
    }
   ],
   "source": [
    "# prime numbers less than 1000 using generator() function\n",
    "\n",
    "def isprime(n):\n",
    "    if(n<2):\n",
    "        return False\n",
    "    i=2\n",
    "    while(i*i <= n):\n",
    "        if n%i==0:\n",
    "            return False\n",
    "        i = i+1\n",
    "    return True\n",
    "\n",
    "def gen_prime():\n",
    "    for i in range(1000):\n",
    "        if isprime(i):\n",
    "            yield i\n",
    "\n",
    "primes_20 = gen_prime()\n",
    "for i in range(20):\n",
    "    print(next(primes_20))"
   ]
  },
  {
   "cell_type": "code",
   "execution_count": 3,
   "id": "d79b35d8-731e-416b-b389-109b3a605df2",
   "metadata": {
    "tags": []
   },
   "outputs": [
    {
     "name": "stdout",
     "output_type": "stream",
     "text": [
      "0\n",
      "1\n",
      "1\n",
      "2\n",
      "3\n",
      "5\n",
      "8\n",
      "13\n",
      "21\n",
      "34\n"
     ]
    }
   ],
   "source": [
    "# 10 Fibonacci numbers using a while loop\n",
    "first=0\n",
    "second=1\n",
    "print(first)\n",
    "print(second)\n",
    "i=3\n",
    "while(i<11):\n",
    "    print(first+second)\n",
    "    temp = first\n",
    "    first = second\n",
    "    second = temp + second\n",
    "    i += 1\n"
   ]
  },
  {
   "cell_type": "code",
   "execution_count": 5,
   "id": "664787e2-ff46-4fad-af97-6a81fb99aed1",
   "metadata": {
    "tags": []
   },
   "outputs": [
    {
     "name": "stdout",
     "output_type": "stream",
     "text": [
      "['p', 'w', 's', 'k', 'i', 'l', 'l', 's']\n"
     ]
    }
   ],
   "source": [
    "# List Comprehension\n",
    "string = 'pwskills'\n",
    "result = [char for char in string]\n",
    "print(result)"
   ]
  },
  {
   "cell_type": "code",
   "execution_count": 6,
   "id": "c5dacfbc-6159-4832-8c4b-2f265c350d8b",
   "metadata": {
    "tags": []
   },
   "outputs": [
    {
     "name": "stdin",
     "output_type": "stream",
     "text": [
      "Enter a number:  786687\n"
     ]
    },
    {
     "name": "stdout",
     "output_type": "stream",
     "text": [
      "786687 is a palindrome number\n"
     ]
    }
   ],
   "source": [
    "# given number is Palindrome or not using a while loop\n",
    "num = int(input(\"Enter a number: \"))\n",
    "temp = num\n",
    "rev_num = 0\n",
    "\n",
    "while temp > 0:\n",
    "    rem = temp % 10\n",
    "    rev_num = (rev_num * 10) + rem\n",
    "    temp //= 10\n",
    "\n",
    "if num == rev_num:\n",
    "    print(num, \"is a palindrome number\")\n",
    "else:\n",
    "    print(num, \"is not a palindrome number\")\n"
   ]
  },
  {
   "cell_type": "code",
   "execution_count": 13,
   "id": "b4e290a3-0fb1-4117-9903-2339a901f7f1",
   "metadata": {
    "tags": []
   },
   "outputs": [
    {
     "name": "stdout",
     "output_type": "stream",
     "text": [
      "[1, 3, 5, 7, 9, 11, 13, 15, 17, 19, 21, 23, 25, 27, 29, 31, 33, 35, 37, 39, 41, 43, 45, 47, 49, 51, 53, 55, 57, 59, 61, 63, 65, 67, 69, 71, 73, 75, 77, 79, 81, 83, 85, 87, 89, 91, 93, 95, 97, 99]\n"
     ]
    }
   ],
   "source": [
    "# odd numbers from 1 to 100 using list comprehension\n",
    "l = [i for i in range(1,101)]\n",
    "l = list(filter(lambda x:x%2==1,l))\n",
    "print(l)"
   ]
  }
 ],
 "metadata": {
  "kernelspec": {
   "display_name": "Python 3 (ipykernel)",
   "language": "python",
   "name": "python3"
  },
  "language_info": {
   "codemirror_mode": {
    "name": "ipython",
    "version": 3
   },
   "file_extension": ".py",
   "mimetype": "text/x-python",
   "name": "python",
   "nbconvert_exporter": "python",
   "pygments_lexer": "ipython3",
   "version": "3.8.16"
  }
 },
 "nbformat": 4,
 "nbformat_minor": 5
}
