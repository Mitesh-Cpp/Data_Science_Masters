{
 "cells": [
  {
   "cell_type": "markdown",
   "id": "48851fe5-2963-47cb-9d3a-5f687c4e50bb",
   "metadata": {},
   "source": [
    "Q1. Explain Class and Object with respect to Object-Oriented Programming. Give a suitable example.\n",
    "\n",
    "Q2. Name the four pillars of OOPs.\n",
    "\n",
    "Q3. Explain why the __init__() function is used. Give a suitable example.\n",
    "\n",
    "Q4. Why self is used in OOPs?\n",
    "\n",
    "Q5. What is inheritance? Give an example for each type of inheritance."
   ]
  },
  {
   "cell_type": "code",
   "execution_count": 1,
   "id": "da52a2ae-71ed-434f-afa0-7658aca8a86c",
   "metadata": {
    "tags": []
   },
   "outputs": [
    {
     "name": "stdout",
     "output_type": "stream",
     "text": [
      "Honda\n",
      "Civic\n",
      "red\n",
      "2019\n"
     ]
    }
   ],
   "source": [
    "'''\n",
    "In object-oriented programming (OOP), a class is a blueprint for creating objects. \n",
    "It defines a set of attributes and methods that are common to all objects created from that class. \n",
    "An object, on the other hand, is an instance of a class. \n",
    "It represents a specific realization of the attributes and behaviors defined in the class.\n",
    "'''\n",
    "class Car:\n",
    "    def __init__(self, make, model, color, year):\n",
    "        self.make = make\n",
    "        self.model = model\n",
    "        self.color = color\n",
    "        self.year = year\n",
    "        \n",
    "# Creating an instance of the Car class\n",
    "my_car = Car(\"Honda\", \"Civic\", \"red\", 2019)\n",
    "\n",
    "# Accessing the attributes of the my_car object\n",
    "print(my_car.make)    \n",
    "print(my_car.model)   \n",
    "print(my_car.color)   \n",
    "print(my_car.year)    "
   ]
  },
  {
   "cell_type": "code",
   "execution_count": 3,
   "id": "01b45e5a-346c-4ed8-8922-5ebdff563e1e",
   "metadata": {
    "tags": []
   },
   "outputs": [
    {
     "name": "stdout",
     "output_type": "stream",
     "text": [
      "Abstraction, Encapsulation, Inheritance and Polymorphism\n"
     ]
    }
   ],
   "source": [
    "'''\n",
    "The four pillars of OOPs are:\n",
    "\n",
    "Abstraction: \n",
    "The process of identifying essential features of an object and ignoring the details that are not \n",
    "necessary for the current task.\n",
    "\n",
    "Encapsulation: \n",
    "The process of hiding the internal details of an object and exposing only the necessary functionalities \n",
    "through a public interface.\n",
    "\n",
    "Inheritance: \n",
    "The ability of a class to inherit attributes and methods from a parent class.\n",
    "\n",
    "Polymorphism: \n",
    "The ability of an object to take on many forms or have multiple behaviors, \n",
    "depending on the context in which it is used.\n",
    "'''\n",
    "print(\"Abstraction, Encapsulation, Inheritance and Polymorphism\")"
   ]
  },
  {
   "cell_type": "code",
   "execution_count": 8,
   "id": "f0a419d4-f914-43be-85e3-264fb5b2cc16",
   "metadata": {
    "tags": []
   },
   "outputs": [
    {
     "name": "stdout",
     "output_type": "stream",
     "text": [
      "John Doe 30 Male\n"
     ]
    }
   ],
   "source": [
    "'''\n",
    "The init() function is used to initialize the attributes of an object when it is created. \n",
    "This function is called a constructor and is used to set default values for attributes or to \n",
    "perform any necessary setup before the object can be used. It takes in the \"self\" parameter, \n",
    "which refers to the object being created, and any other parameters necessary to initialize the attributes.\n",
    "\n",
    "For example, consider the class \"Person\". \n",
    "The init() function might be used to initialize the attributes \"name\", \"age\", and \"gender\" with default values. \n",
    "The function might look like this:\n",
    "'''\n",
    "class Person:\n",
    "    def __init__(self, name=\"John Doe\", age=30, gender=\"Male\"):\n",
    "        self.name = name\n",
    "        self.age = age\n",
    "        self.gender = gender\n",
    "P1 = Person()\n",
    "print(P1.name,P1.age,P1.gender)"
   ]
  },
  {
   "cell_type": "code",
   "execution_count": 9,
   "id": "f9ea5653-65f9-4e09-936b-63cfeb9a9938",
   "metadata": {
    "tags": []
   },
   "outputs": [
    {
     "name": "stdout",
     "output_type": "stream",
     "text": [
      "Hello, my name is Rohan\n"
     ]
    }
   ],
   "source": [
    "'''\n",
    "In OOPs, \"self\" is used to refer to the object that is calling a method. \n",
    "It is a reference to the instance of the class that is currently being manipulated. \n",
    "By convention, \"self\" is the first parameter in any class method definition.\n",
    "\n",
    "For example, consider the class \"Person\" again. \n",
    "The method \"greet()\" might be used to print a greeting to the console, using the person's name attribute. \n",
    "The method would need to use \"self\" to access the name attribute of the specific person object \n",
    "that is calling the method. The method might look like this:\n",
    "'''\n",
    "class Person:\n",
    "    def __init__(self, name):\n",
    "        self.name = name\n",
    "\n",
    "    def greet(self):\n",
    "        print(\"Hello, my name is\", self.name)\n",
    "P1 = Person(\"Rohan\")\n",
    "P1.greet()"
   ]
  },
  {
   "cell_type": "code",
   "execution_count": 9,
   "id": "fd907a96-951b-4e6f-ba67-49c3031b3926",
   "metadata": {},
   "outputs": [
    {
     "name": "stdout",
     "output_type": "stream",
     "text": [
      "Woof!\n",
      "Woof!\n",
      "Small\n",
      "Lay eggs\n",
      "Live birth\n",
      "Buddy is eating.\n",
      "Buddy is a Canine mammal and giving birth.\n",
      "Buddy is a dog and barking.\n",
      "Snappy is eating.\n",
      "Snappy is a Crocodilian reptile and laying eggs.\n",
      "Snappy is a crocodile and snapping jaws.\n"
     ]
    }
   ],
   "source": [
    "'''\n",
    "Inheritance is a mechanism in Object-Oriented Programming (OOP) that allows a new class to be based on an existing class, \n",
    "inheriting the attributes and methods of the parent class. \n",
    "This enables the creation of more specialized classes that have additional or modified functionality.\n",
    "There are 4 types of Inheritance.\n",
    "'''\n",
    "\n",
    "\"1. Single inheritance:\"\n",
    "class Animal:\n",
    "    def __init__(self, name, color):\n",
    "        self.name = name\n",
    "        self.color = color\n",
    "        \n",
    "    def speak(self):\n",
    "        pass\n",
    "\n",
    "class Dog(Animal):\n",
    "    def speak(self):\n",
    "        return \"Woof!\"\n",
    "\n",
    "dog1 = Dog(\"Buddy\", \"Brown\")\n",
    "print(dog1.speak()) # Output: Woof!\n",
    "\n",
    "\"2. Multilevel inheritance\"\n",
    "class Animal:\n",
    "    def __init__(self, name, color):\n",
    "        self.name = name\n",
    "        self.color = color\n",
    "\n",
    "class Dog(Animal):\n",
    "    def speak(self):\n",
    "        return \"Woof!\"\n",
    "\n",
    "class Terrier(Dog):\n",
    "    def size(self):\n",
    "        return \"Small\"\n",
    "\n",
    "terrier1 = Terrier(\"Jack\", \"White\")\n",
    "print(terrier1.speak()) # Output: Woof!\n",
    "print(terrier1.size()) # Output: Small\n",
    "\n",
    "\"3. Multiple inheritance\"\n",
    "class Animal:\n",
    "    def __init__(self, name, color):\n",
    "        self.name = name\n",
    "        self.color = color\n",
    "\n",
    "class Mammal:\n",
    "    def give_birth(self):\n",
    "        return \"Live birth\"\n",
    "\n",
    "class Platypus(Animal, Mammal):\n",
    "    def __init__(self, name, color):\n",
    "        Animal.__init__(self, name, color)\n",
    "        Mammal.__init__(self)\n",
    "        \n",
    "    def lay_eggs(self):\n",
    "        return \"Lay eggs\"\n",
    "\n",
    "platypus1 = Platypus(\"Perry\", \"Brown\")\n",
    "print(platypus1.lay_eggs()) # Output: Lay eggs\n",
    "print(platypus1.give_birth()) # Output: Live birth\n",
    "\n",
    "\"4. Hierarchical inheritance\"\n",
    "class Animal:\n",
    "    def __init__(self, name):\n",
    "        self.name = name\n",
    "    \n",
    "    def eat(self):\n",
    "        print(f\"{self.name} is eating.\")\n",
    "\n",
    "class Mammal(Animal):\n",
    "    def __init__(self, name, species):\n",
    "        super().__init__(name)\n",
    "        self.species = species\n",
    "    \n",
    "    def give_birth(self):\n",
    "        print(f\"{self.name} is a {self.species} mammal and giving birth.\")\n",
    "\n",
    "class Reptile(Animal):\n",
    "    def __init__(self, name, species):\n",
    "        super().__init__(name)\n",
    "        self.species = species\n",
    "    \n",
    "    def lay_eggs(self):\n",
    "        print(f\"{self.name} is a {self.species} reptile and laying eggs.\")\n",
    "\n",
    "class Dog(Mammal):\n",
    "    def __init__(self, name):\n",
    "        super().__init__(name, \"Canine\")\n",
    "    \n",
    "    def bark(self):\n",
    "        print(f\"{self.name} is a dog and barking.\")\n",
    "\n",
    "class Crocodile(Reptile):\n",
    "    def __init__(self, name):\n",
    "        super().__init__(name, \"Crocodilian\")\n",
    "    \n",
    "    def snap_jaws(self):\n",
    "        print(f\"{self.name} is a crocodile and snapping jaws.\")\n",
    "\n",
    "dog1 = Dog(\"Buddy\")\n",
    "crocodile1 = Crocodile(\"Snappy\")\n",
    "\n",
    "dog1.eat()\n",
    "dog1.give_birth()\n",
    "dog1.bark()\n",
    "\n",
    "crocodile1.eat()\n",
    "crocodile1.lay_eggs()\n",
    "crocodile1.snap_jaws()"
   ]
  }
 ],
 "metadata": {
  "kernelspec": {
   "display_name": "Python 3 (ipykernel)",
   "language": "python",
   "name": "python3"
  },
  "language_info": {
   "codemirror_mode": {
    "name": "ipython",
    "version": 3
   },
   "file_extension": ".py",
   "mimetype": "text/x-python",
   "name": "python",
   "nbconvert_exporter": "python",
   "pygments_lexer": "ipython3",
   "version": "3.8.16"
  }
 },
 "nbformat": 4,
 "nbformat_minor": 5
}
