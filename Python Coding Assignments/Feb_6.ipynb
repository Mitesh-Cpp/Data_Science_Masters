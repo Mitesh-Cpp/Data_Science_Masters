{
 "cells": [
  {
   "cell_type": "markdown",
   "id": "3f60ce84-ed7d-438c-8348-95d8ea973f1e",
   "metadata": {},
   "source": [
    "Q1. Create a function which will take a list as an argument and return the product of all the numbers\n",
    "after creating a flat list.\n",
    "Use the below-given list as an argument for your function.\n",
    "list1 = [1,2,3,4, [44,55,66, True], False, (34,56,78,89,34), {1,2,3,3,2,1}, {1:34, \"key2\": [55, 67, 78, 89], 4: (45,\n",
    "22, 61, 34)}, [56, 'data science'], 'Machine Learning']\n",
    "Note: you must extract numeric keys and values of the dictionary also.\n",
    "\n",
    "Q2. Write a python program for encrypting a message sent to you by your friend. The logic of encryption\n",
    "should be such that, for a the output should be z. For b, the output should be y. For c, the output should\n",
    "be x respectively. Also, the whitespace should be replaced with a dollar sign. Keep the punctuation\n",
    "marks unchanged.\n",
    "Input Sentence: I want to become a Data Scientist.\n",
    "Encrypt the above input sentence using the program you just created.\n",
    "Note: Convert the given input sentence into lowercase before encrypting. The final output should be\n",
    "lowercase."
   ]
  },
  {
   "cell_type": "code",
   "execution_count": 17,
   "id": "d95ec382-547a-40b1-a034-5037c3f065cd",
   "metadata": {
    "tags": []
   },
   "outputs": [
    {
     "name": "stdout",
     "output_type": "stream",
     "text": [
      "78718933113238978560\n"
     ]
    }
   ],
   "source": [
    "# product of all integers present in a list\n",
    "def multiply_numbers(lst):\n",
    "    flat_lst = []\n",
    "    for item in lst:\n",
    "        if isinstance(item, (int, float)):\n",
    "            flat_lst.append(item)\n",
    "        elif isinstance(item, (list, tuple, set)):\n",
    "            flat_lst.extend([x for x in item if isinstance(x, (int, float))])\n",
    "        elif isinstance(item, dict):\n",
    "            flat_lst.extend([x for x in item.values() if isinstance(x, (int, float, complex))])\n",
    "            flat_lst.extend([x for x in item.keys() if isinstance(x, (int, float, complex))])\n",
    "    product = 1\n",
    "    for num in flat_lst:\n",
    "        if isinstance(num, (int, float)) and not isinstance(num, bool):\n",
    "            product *= num\n",
    "    return product\n",
    "\n",
    "list1 = [1,2,3,4, [44,55,66, True], False, (34,56,78,89,34), {1,2,3,3,2,1}, \n",
    "         {1:34, \"key2\": [55, 67, 78, 89], 4: (45, 22, 61, 34)}, [56, 'data science'], 'Machine Learning']\n",
    "\n",
    "result = multiply_numbers(list1)\n",
    "print(result)"
   ]
  },
  {
   "cell_type": "code",
   "execution_count": 26,
   "id": "90f36e12-e8ba-4ca5-9054-33920f229914",
   "metadata": {
    "tags": []
   },
   "outputs": [
    {
     "name": "stdout",
     "output_type": "stream",
     "text": [
      "r$dzmg$gl$yvxlnv$z$wzgz$hxrvmgrhg\n"
     ]
    }
   ],
   "source": [
    "message = \"I want to become a Data Scientist\"\n",
    "message = message.lower()\n",
    "l = []\n",
    "for i in message:\n",
    "    if i>='a' and i<='z':\n",
    "        l.append(chr(ord('z')-ord(i)+ord('a')))\n",
    "    elif i==' ':\n",
    "        l.append('$')\n",
    "    else:\n",
    "        l.append(i)\n",
    "message = ''.join(l)\n",
    "print(message)\n",
    "        "
   ]
  }
 ],
 "metadata": {
  "kernelspec": {
   "display_name": "Python 3 (ipykernel)",
   "language": "python",
   "name": "python3"
  },
  "language_info": {
   "codemirror_mode": {
    "name": "ipython",
    "version": 3
   },
   "file_extension": ".py",
   "mimetype": "text/x-python",
   "name": "python",
   "nbconvert_exporter": "python",
   "pygments_lexer": "ipython3",
   "version": "3.8.16"
  }
 },
 "nbformat": 4,
 "nbformat_minor": 5
}
