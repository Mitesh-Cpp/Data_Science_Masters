{
 "cells": [
  {
   "cell_type": "raw",
   "id": "7b1073dc-ae80-49e6-bab4-c60de667619f",
   "metadata": {},
   "source": [
    "1. Who developed Python Programming Language?\n",
    "2. Which type of Programming does Python support?\n",
    "3. Is Python case sensitive when dealing with identifiers?\n",
    "4. What is the correct extension of the Python file?\n",
    "5. Is Python code compiled or interpreted?\n",
    "6. Name a few blocks of code used to define in Python language?\n",
    "7. State a character used to give single-line comments in Python?\n",
    "8. Mention functions which can help us to find the version of python that we are currently working on?\n",
    "9. Python supports the creation of anonymous functions at runtime, using a construct called\n",
    "10. What does pip stand for python?\n",
    "11. Mention a few built-in functions in python?\n",
    "12. What is the maximum possible length of an identifier in Python?\n",
    "13. What are the benefits of using Python?\n",
    "14. How is memory managed in Python?\n",
    "15. How to install Python on Windows and set path variables?\n",
    "16. Is indentation required in python?"
   ]
  },
  {
   "cell_type": "raw",
   "id": "687f4bec-0b60-4964-94e5-84e2ef333a21",
   "metadata": {},
   "source": [
    "1. Python Programming Language was developed by Guido van Rossum in the late 1980s.\n",
    "\n",
    "2. Python supports multiple programming paradigms, including object-oriented, functional, and procedural programming.\n",
    "\n",
    "3. Yes, Python is case-sensitive when dealing with identifiers. \n",
    "For example, my_variable and My_variable are two different identifiers in Python.\n",
    "\n",
    "4. The correct extension of a Python file is .py.\n",
    "\n",
    "5. Python code is interpreted. \n",
    "The Python interpreter reads and executes the code directly, line by line, without first compiling it into machine code.\n",
    "\n",
    "6. In Python, blocks of code are defined using indentation. \n",
    "Some examples of blocks of code in Python include function definitions, class definitions, and conditional statements.\n",
    "\n",
    "7. The hash character (#) is used to give single-line comments in Python.\n",
    "    \n",
    "8. The sys module in Python provides the sys.version and sys.version_info functions, \n",
    "which can be used to find the version of Python that is currently being used.\n",
    "    \n",
    "9. Python supports the creation of anonymous functions at runtime, using a construct called lambda.\n",
    "    \n",
    "10. PIP stands for \"Pip Installs Packages\". \n",
    "It is a package management system used to install and manage software packages written in Python.\n",
    "    \n",
    "11. Some built-in functions in Python include print(), len(), range(), input(), type(), int(), str(), float(), \n",
    "abs(), max(), min(), sum(), round(), map(), filter(), and zip().\n",
    "    \n",
    "12. In Python, the maximum possible length of an identifier is not specified, \n",
    "but it is generally recommended to keep identifier names reasonably short and descriptive.\n",
    "    \n",
    "13. Python has several benefits, including its ease of use and readability, its extensive standard library, \n",
    "its large and active community of developers, its cross-platform compatibility, and its ability to be used \n",
    "in a wide range of applications, including web development, data analysis, scientific computing,\n",
    "artificial intelligence, and machine learning.\n",
    "    \n",
    "14. Memory management in Python is handled automatically by the Python interpreter through a process called garbage collection.\n",
    "The interpreter tracks the use of objects in memory and automatically frees up memory that is no longer needed.\n",
    "    \n",
    "15. To install Python on Windows, you can download the installer from the official Python website and run it.\n",
    "During installation, you can choose to add Python to your system PATH environment variable, which allows you to run Python\n",
    "from the command line. \n",
    "Alternatively, you can set the PATH variable manually after installation.\n",
    "To do this, go to Control Panel > System > Advanced system settings > Environment Variables, and add the Python installation \n",
    "directory to the PATH variable.\n",
    "    \n",
    "16. Yes, indentation is required in Python to indicate the beginning and end of blocks of code. \n",
    "The recommended indentation style is four spaces."
   ]
  }
 ],
 "metadata": {
  "kernelspec": {
   "display_name": "Python 3 (ipykernel)",
   "language": "python",
   "name": "python3"
  },
  "language_info": {
   "codemirror_mode": {
    "name": "ipython",
    "version": 3
   },
   "file_extension": ".py",
   "mimetype": "text/x-python",
   "name": "python",
   "nbconvert_exporter": "python",
   "pygments_lexer": "ipython3",
   "version": "3.8.16"
  }
 },
 "nbformat": 4,
 "nbformat_minor": 5
}
