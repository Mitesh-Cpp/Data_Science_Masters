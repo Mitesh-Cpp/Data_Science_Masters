{
 "cells": [
  {
   "cell_type": "markdown",
   "id": "4e860704-0cba-4a59-9994-828687b2dbbd",
   "metadata": {
    "tags": []
   },
   "source": [
    "Q1. You are writing code for a company. The requirement of the company is that you create a python\n",
    "function that will check whether the password entered by the user is correct or not. The function should\n",
    "take the password as input and return the string “Valid Password” if the entered password follows the\n",
    "below-given password guidelines else it should return “Invalid Password”.\n",
    "Note: \n",
    "1. The Password should contain at least two uppercase letters and at least two lowercase letters.\n",
    "\n",
    "2. The Password should contain at least a number and three special characters.\n",
    "\n",
    "3. The length of the password should be 10 characters long.\n",
    "\n",
    "\n",
    "Q2. Solve the below-given questions using at least one of the following:\n",
    "1. Lambda function\n",
    "2. Filter function\n",
    "3. Map function\n",
    "4. List Comprehension\n",
    "\n",
    "Check if the string starts with a particular letter\n",
    "\n",
    "Check if the string is numeric\n",
    "\n",
    "Sort a list of tuples having fruit names and their quantity. \n",
    "[(\"mango\",99),(\"orange\",80), (\"grapes\", 1000)]\n",
    "\n",
    "Find the squares of numbers from 1 to 10\n",
    "\n",
    "Find the cube root of numbers from 1 to 10\n",
    "\n",
    "Check if a given number is even\n",
    "\n",
    "Filter odd numbers from the given list.\n",
    "[1,2,3,4,5,6,7,8,9,10]\n",
    "\n",
    "Sort a list of integers into positive and negative integers lists.\n",
    "[1,2,3,4,5,6,-1,-2,-3,-4,-5,0]"
   ]
  },
  {
   "cell_type": "code",
   "execution_count": 4,
   "id": "f902821a-8746-487d-ba5f-2c069b9a9ea7",
   "metadata": {
    "tags": []
   },
   "outputs": [
    {
     "name": "stdout",
     "output_type": "stream",
     "text": [
      "True\n",
      "False\n"
     ]
    }
   ],
   "source": [
    "# password validator\n",
    "def is_valid(password) :\n",
    "    upper = lower = special = digits = 0\n",
    "    for i in password:\n",
    "        if i>='a' and i<='z':\n",
    "            lower += 1\n",
    "        elif i>='A' and i<='Z':\n",
    "            upper += 1\n",
    "        elif i>='0' and i<='9':\n",
    "            digits += 1\n",
    "        else:\n",
    "            special += 1\n",
    "    if upper>=2 and lower>=2 and digits>=1 and special>=3 and len(password)>=10:\n",
    "        return True\n",
    "    return False\n",
    "print(is_valid(\"YoYo@12#!001\"))\n",
    "print(is_valid(\"YoYoMickeyMouse\"))"
   ]
  },
  {
   "cell_type": "code",
   "execution_count": 5,
   "id": "015a97b5-f426-453b-81d7-e30867f3a300",
   "metadata": {
    "tags": []
   },
   "outputs": [
    {
     "name": "stdout",
     "output_type": "stream",
     "text": [
      "True\n",
      "False\n"
     ]
    }
   ],
   "source": [
    "# Check if the string starts with a particular letter\n",
    "letter = 'R'\n",
    "text1 = 'Ravi'\n",
    "text2 = 'Naman'\n",
    "print(text1[0]==letter)\n",
    "print(text2[0]==letter)"
   ]
  },
  {
   "cell_type": "code",
   "execution_count": 9,
   "id": "009c4c7f-3190-4901-b4ee-086f3d27c683",
   "metadata": {
    "tags": []
   },
   "outputs": [
    {
     "name": "stdout",
     "output_type": "stream",
     "text": [
      "False\n",
      "True\n"
     ]
    }
   ],
   "source": [
    "# Check if the string is numeric\n",
    "def is_numeric(s):\n",
    "    nums = map(lambda c: ord(c) - ord('0'), s)\n",
    "    return all(isinstance(n, int) and n >= 0 and n <= 9 for n in nums)\n",
    "    \n",
    "print(is_numeric(\"abcd1234\"))\n",
    "print(is_numeric(\"12345678\"))"
   ]
  },
  {
   "cell_type": "code",
   "execution_count": 10,
   "id": "41b14d52-21c4-4685-adad-d54c629b32dc",
   "metadata": {
    "tags": []
   },
   "outputs": [
    {
     "name": "stdout",
     "output_type": "stream",
     "text": [
      "[('orange', 80), ('mango', 99), ('grapes', 1000)]\n"
     ]
    }
   ],
   "source": [
    "# Sort a list of tuples having fruit names and their quantity\n",
    "fruits = [(\"mango\",99),(\"orange\",80), (\"grapes\", 1000)]\n",
    "sorted_fruits = sorted(fruits, key=lambda x: x[1])\n",
    "print(sorted_fruits)"
   ]
  },
  {
   "cell_type": "code",
   "execution_count": 15,
   "id": "5ab853ad-98cd-4cf6-b9ee-7c90b86c28ee",
   "metadata": {
    "tags": []
   },
   "outputs": [
    {
     "name": "stdout",
     "output_type": "stream",
     "text": [
      "[1, 4, 9, 16, 25, 36, 49, 64, 81, 100]\n"
     ]
    }
   ],
   "source": [
    "# square of list \n",
    "l = list(map(lambda x : x*x,[i for i in range(1,11)]))\n",
    "print(l)"
   ]
  },
  {
   "cell_type": "code",
   "execution_count": 17,
   "id": "c1bca542-3880-4567-a07a-dbe235d7f469",
   "metadata": {
    "tags": []
   },
   "outputs": [
    {
     "name": "stdout",
     "output_type": "stream",
     "text": [
      "[1, 8, 27, 64, 125, 216, 343, 512, 729, 1000]\n"
     ]
    }
   ],
   "source": [
    "# cube of list\n",
    "l = list(map(lambda x : x**3,[i for i in range(1,11)]))\n",
    "print(l)"
   ]
  },
  {
   "cell_type": "code",
   "execution_count": 18,
   "id": "16220459-45a3-4600-8f54-9f81349f3bb3",
   "metadata": {
    "tags": []
   },
   "outputs": [
    {
     "name": "stdout",
     "output_type": "stream",
     "text": [
      "True\n"
     ]
    }
   ],
   "source": [
    "# check if given number is even\n",
    "is_even = lambda x: x % 2 == 0\n",
    "print(is_even(10))"
   ]
  },
  {
   "cell_type": "code",
   "execution_count": 20,
   "id": "9874ec1a-e76e-467a-8c80-ab974e17d83c",
   "metadata": {
    "tags": []
   },
   "outputs": [
    {
     "name": "stdout",
     "output_type": "stream",
     "text": [
      "[1, 3, 5, 7, 9]\n"
     ]
    }
   ],
   "source": [
    "# filter odd numbers from the given list\n",
    "l = [1,2,3,4,5,6,7,8,9,10]\n",
    "print(list(filter(lambda x:x%2,l)))"
   ]
  },
  {
   "cell_type": "code",
   "execution_count": 24,
   "id": "55a45446-daf3-4f10-9300-5f588315aa1d",
   "metadata": {
    "tags": []
   },
   "outputs": [
    {
     "name": "stdout",
     "output_type": "stream",
     "text": [
      "[0, 1, 2, 3, 4, 5, 6]\n",
      "[-5, -4, -3, -2, -1]\n"
     ]
    }
   ],
   "source": [
    "# Sort a list of integers into positive and negative integers lists\n",
    "l = [1, 2, 3, 4, 5, 6, -1, -2, -3, -4, -5, 0]\n",
    "pos = sorted(filter(lambda x: x >= 0, l))\n",
    "neg = sorted(filter(lambda x: x < 0, l))\n",
    "print(pos)\n",
    "print(neg)"
   ]
  }
 ],
 "metadata": {
  "kernelspec": {
   "display_name": "Python 3 (ipykernel)",
   "language": "python",
   "name": "python3"
  },
  "language_info": {
   "codemirror_mode": {
    "name": "ipython",
    "version": 3
   },
   "file_extension": ".py",
   "mimetype": "text/x-python",
   "name": "python",
   "nbconvert_exporter": "python",
   "pygments_lexer": "ipython3",
   "version": "3.8.16"
  }
 },
 "nbformat": 4,
 "nbformat_minor": 5
}
